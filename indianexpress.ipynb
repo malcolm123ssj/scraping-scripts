{
 "cells": [
  {
   "cell_type": "code",
   "execution_count": 13,
   "metadata": {},
   "outputs": [],
   "source": [
    "import pandas as pd\n",
    "import requests\n",
    "from bs4 import BeautifulSoup as bs\n",
    "from selenium import webdriver\n",
    "from selenium.webdriver.support.ui import WebDriverWait\n",
    "from selenium.webdriver.support import expected_conditions as EC\n",
    "from selenium.webdriver.common.by import By\n",
    "from selenium.common.exceptions import TimeoutException\n",
    "import pyautogui as auto\n",
    "import time\n",
    "\n",
    "auto.PAUSE =2.0"
   ]
  },
  {
   "cell_type": "code",
   "execution_count": 25,
   "metadata": {},
   "outputs": [],
   "source": [
    "driver = webdriver.Chrome(executable_path=\"/usr/bin/chromedriver\")\n",
    "driver.get(\"https://indianexpress.com/section/cities/mumbai/\")\n",
    "\n",
    "time_end = time.time() +60*10\n",
    "\n",
    "while time.time() <time_end:\n",
    "    driver.find_element_by_xpath(\"//div[@class ='o-listing__load-more']/a\").click()\n",
    "    time.sleep(2)\n",
    "\n",
    "    \n",
    "res = driver.execute_script(\"return document.documentElement.outerHTML\")\n",
    "soup =bs(res,'lxml')\n",
    "\n",
    "a = soup.find_all('a',href=True)\n",
    "\n",
    "url =[]\n",
    "for i in a:\n",
    "    if '/article/cities/' in i.get('href'):\n",
    "        url.append(i.get('href'))"
   ]
  },
  {
   "cell_type": "code",
   "execution_count": 58,
   "metadata": {},
   "outputs": [
    {
     "data": {
      "text/plain": [
       "'https://indianexpress.com/article/cities/mumbai/mumbai-juhu-businessman-critical-day-after-iron-rod-fell-on-his-head-5782540/'"
      ]
     },
     "execution_count": 58,
     "metadata": {},
     "output_type": "execute_result"
    }
   ],
   "source": [
    "url[0]"
   ]
  },
  {
   "cell_type": "code",
   "execution_count": null,
   "metadata": {},
   "outputs": [],
   "source": [
    "news =[]\n",
    "for i in url:\n",
    "    req = requests.get(i, timeout=240)\n",
    "    soup = bs(req.text ,'lxml')\n",
    "\n",
    "    text = \"\"\n",
    "    for paragraph in soup.find_all('p'):\n",
    "        text+=paragraph.text\n",
    "    \n",
    "    div = soup.find('div', class_='m-story-meta__credit')\n",
    "    span = div.findChildren(\"span\" , recursive=False)\n",
    "    \n",
    "    date =\"\"\n",
    "    try:\n",
    "        date = span[2].text\n",
    "    except:\n",
    "        date = \"\"\n",
    "    \n",
    "    temp=[]\n",
    "    temp.append(text)\n",
    "    temp.append(date)\n",
    "    \n",
    "    news.append(temp)"
   ]
  },
  {
   "cell_type": "code",
   "execution_count": 12,
   "metadata": {},
   "outputs": [
    {
     "name": "stdout",
     "output_type": "stream",
     "text": [
      "Updated: June 15, 2019 9:16:49 pm\n"
     ]
    }
   ],
   "source": [
    "# req = requests.get('https://indianexpress.com/article/cities/delhi/fire-breaks-out-at-cloth-godown-in-delhis-chandni-chowk-5782487/', timeout=240)\n",
    "# soup = bs(req.text ,'lxml')\n",
    "\n",
    "# div = soup.find('div', class_='m-story-meta__credit')\n",
    "# span = div.findChildren(\"span\" , recursive=False)"
   ]
  },
  {
   "cell_type": "code",
   "execution_count": 31,
   "metadata": {},
   "outputs": [
    {
     "data": {
      "text/plain": [
       "['© 2019 The Indian Express Ltd.  All Rights ReservedEven as the monsoon is set to arrive late, Mumbai and its satellite cities received pre-monsoon showers over the last two days due to the impact of Cyclone Vayu.The IMD has recorded 17.4 mm rainfall in Mumbai suburbs and 6 mm rain in the city on Thursday and Friday, as parts of Mumbai and Thane received incessant showers for the two days.After remaining stagnant for almost a week, the southwest monsoon has now advanced into Mangalore, Mysore, Salem, Cuddalore, Agartala, Lumding and Passighat, IMD officials said. “However, monsoon is catching up and till then Mumbai, Palghar and other regions are expected to receive showers. The Raigad area might experience heavy rain in the coming few days,” an official said. According to IMD officials, Cyclone Vayu is now moving away westwards, but its impact will be seen over Gujarat and light to moderate rainfall will continue in the coastal areas, right from Mahuva to Dwarka including Veraval, Amreli, Somnath, Junagadh, and Porbandar.“Light to moderate rain, with one or two intense spells, are also expected over Konkan region and Goa. Mumbai, too, will witness one or two good spells,” the officer said.Download the Indian Express apps for iPhone, iPad or Android© 2019 The Indian Express Ltd. All Rights Reserved',\n",
       " 'Written by Gargi Verma | ']"
      ]
     },
     "execution_count": 31,
     "metadata": {},
     "output_type": "execute_result"
    }
   ],
   "source": [
    "news[12]"
   ]
  },
  {
   "cell_type": "code",
   "execution_count": 32,
   "metadata": {},
   "outputs": [],
   "source": [
    "with open('mumbai_news.txt', 'w') as f:\n",
    "    for item in news:\n",
    "        f.write(\"%s\\n\" % item)"
   ]
  },
  {
   "cell_type": "code",
   "execution_count": 33,
   "metadata": {},
   "outputs": [],
   "source": [
    "df = pd.DataFrame(news)"
   ]
  },
  {
   "cell_type": "code",
   "execution_count": 34,
   "metadata": {},
   "outputs": [],
   "source": [
    "df.to_csv('mumbai.csv',index=False ,sep='\\t')"
   ]
  },
  {
   "cell_type": "code",
   "execution_count": 40,
   "metadata": {},
   "outputs": [],
   "source": [
    "mumbai = pd.read_csv('mumbai.csv',sep='\\t')"
   ]
  },
  {
   "cell_type": "code",
   "execution_count": 41,
   "metadata": {},
   "outputs": [
    {
     "data": {
      "text/html": [
       "<div>\n",
       "<style scoped>\n",
       "    .dataframe tbody tr th:only-of-type {\n",
       "        vertical-align: middle;\n",
       "    }\n",
       "\n",
       "    .dataframe tbody tr th {\n",
       "        vertical-align: top;\n",
       "    }\n",
       "\n",
       "    .dataframe thead th {\n",
       "        text-align: right;\n",
       "    }\n",
       "</style>\n",
       "<table border=\"1\" class=\"dataframe\">\n",
       "  <thead>\n",
       "    <tr style=\"text-align: right;\">\n",
       "      <th></th>\n",
       "      <th>0</th>\n",
       "      <th>1</th>\n",
       "    </tr>\n",
       "  </thead>\n",
       "  <tbody>\n",
       "    <tr>\n",
       "      <th>0</th>\n",
       "      <td>© 2019 The Indian Express Ltd.  All Rights Res...</td>\n",
       "      <td>By Express News Service |</td>\n",
       "    </tr>\n",
       "    <tr>\n",
       "      <th>1</th>\n",
       "      <td>© 2019 The Indian Express Ltd.  All Rights Res...</td>\n",
       "      <td>By Express News Service |</td>\n",
       "    </tr>\n",
       "    <tr>\n",
       "      <th>2</th>\n",
       "      <td>© 2019 The Indian Express Ltd.  All Rights Res...</td>\n",
       "      <td>By Express News Service |</td>\n",
       "    </tr>\n",
       "    <tr>\n",
       "      <th>3</th>\n",
       "      <td>© 2019 The Indian Express Ltd.  All Rights Res...</td>\n",
       "      <td>By Express News Service |</td>\n",
       "    </tr>\n",
       "    <tr>\n",
       "      <th>4</th>\n",
       "      <td>© 2019 The Indian Express Ltd.  All Rights Res...</td>\n",
       "      <td>Written by Tabassum Barnagarwala |</td>\n",
       "    </tr>\n",
       "    <tr>\n",
       "      <th>5</th>\n",
       "      <td>© 2019 The Indian Express Ltd.  All Rights Res...</td>\n",
       "      <td>Written by Tabassum Barnagarwala |</td>\n",
       "    </tr>\n",
       "    <tr>\n",
       "      <th>6</th>\n",
       "      <td>© 2019 The Indian Express Ltd.  All Rights Res...</td>\n",
       "      <td>By Express News Service |</td>\n",
       "    </tr>\n",
       "    <tr>\n",
       "      <th>7</th>\n",
       "      <td>© 2019 The Indian Express Ltd.  All Rights Res...</td>\n",
       "      <td>By Express News Service |</td>\n",
       "    </tr>\n",
       "    <tr>\n",
       "      <th>8</th>\n",
       "      <td>© 2019 The Indian Express Ltd.  All Rights Res...</td>\n",
       "      <td>Written by Siddhant Malik |</td>\n",
       "    </tr>\n",
       "    <tr>\n",
       "      <th>9</th>\n",
       "      <td>© 2019 The Indian Express Ltd.  All Rights Res...</td>\n",
       "      <td>Written by Siddhant Malik |</td>\n",
       "    </tr>\n",
       "    <tr>\n",
       "      <th>10</th>\n",
       "      <td>© 2019 The Indian Express Ltd.  All Rights Res...</td>\n",
       "      <td>By Express News Service |</td>\n",
       "    </tr>\n",
       "    <tr>\n",
       "      <th>11</th>\n",
       "      <td>© 2019 The Indian Express Ltd.  All Rights Res...</td>\n",
       "      <td>By Express News Service |</td>\n",
       "    </tr>\n",
       "    <tr>\n",
       "      <th>12</th>\n",
       "      <td>© 2019 The Indian Express Ltd.  All Rights Res...</td>\n",
       "      <td>Written by Gargi Verma |</td>\n",
       "    </tr>\n",
       "    <tr>\n",
       "      <th>13</th>\n",
       "      <td>© 2019 The Indian Express Ltd.  All Rights Res...</td>\n",
       "      <td>Written by Gargi Verma |</td>\n",
       "    </tr>\n",
       "    <tr>\n",
       "      <th>14</th>\n",
       "      <td>© 2019 The Indian Express Ltd.  All Rights Res...</td>\n",
       "      <td>Written by Sailee Dhayalkar |</td>\n",
       "    </tr>\n",
       "  </tbody>\n",
       "</table>\n",
       "</div>"
      ],
      "text/plain": [
       "                                                    0  \\\n",
       "0   © 2019 The Indian Express Ltd.  All Rights Res...   \n",
       "1   © 2019 The Indian Express Ltd.  All Rights Res...   \n",
       "2   © 2019 The Indian Express Ltd.  All Rights Res...   \n",
       "3   © 2019 The Indian Express Ltd.  All Rights Res...   \n",
       "4   © 2019 The Indian Express Ltd.  All Rights Res...   \n",
       "5   © 2019 The Indian Express Ltd.  All Rights Res...   \n",
       "6   © 2019 The Indian Express Ltd.  All Rights Res...   \n",
       "7   © 2019 The Indian Express Ltd.  All Rights Res...   \n",
       "8   © 2019 The Indian Express Ltd.  All Rights Res...   \n",
       "9   © 2019 The Indian Express Ltd.  All Rights Res...   \n",
       "10  © 2019 The Indian Express Ltd.  All Rights Res...   \n",
       "11  © 2019 The Indian Express Ltd.  All Rights Res...   \n",
       "12  © 2019 The Indian Express Ltd.  All Rights Res...   \n",
       "13  © 2019 The Indian Express Ltd.  All Rights Res...   \n",
       "14  © 2019 The Indian Express Ltd.  All Rights Res...   \n",
       "\n",
       "                                      1  \n",
       "0             By Express News Service |  \n",
       "1             By Express News Service |  \n",
       "2             By Express News Service |  \n",
       "3             By Express News Service |  \n",
       "4   Written by Tabassum Barnagarwala |   \n",
       "5   Written by Tabassum Barnagarwala |   \n",
       "6             By Express News Service |  \n",
       "7             By Express News Service |  \n",
       "8          Written by Siddhant Malik |   \n",
       "9          Written by Siddhant Malik |   \n",
       "10            By Express News Service |  \n",
       "11            By Express News Service |  \n",
       "12            Written by Gargi Verma |   \n",
       "13            Written by Gargi Verma |   \n",
       "14       Written by Sailee Dhayalkar |   "
      ]
     },
     "execution_count": 41,
     "metadata": {},
     "output_type": "execute_result"
    }
   ],
   "source": [
    "mumbai.head(15)"
   ]
  },
  {
   "cell_type": "code",
   "execution_count": 42,
   "metadata": {},
   "outputs": [
    {
     "data": {
      "text/plain": [
       "4168"
      ]
     },
     "execution_count": 42,
     "metadata": {},
     "output_type": "execute_result"
    }
   ],
   "source": [
    "mumbai.size"
   ]
  }
 ],
 "metadata": {
  "kernelspec": {
   "display_name": "Python 3",
   "language": "python",
   "name": "python3"
  },
  "language_info": {
   "codemirror_mode": {
    "name": "ipython",
    "version": 3
   },
   "file_extension": ".py",
   "mimetype": "text/x-python",
   "name": "python",
   "nbconvert_exporter": "python",
   "pygments_lexer": "ipython3",
   "version": "3.7.3"
  }
 },
 "nbformat": 4,
 "nbformat_minor": 2
}
